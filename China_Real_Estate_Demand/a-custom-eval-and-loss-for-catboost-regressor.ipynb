{
 "metadata": {
  "kernelspec": {
   "language": "python",
   "display_name": "Python 3",
   "name": "python3"
  },
  "language_info": {
   "name": "python",
   "version": "3.11.13",
   "mimetype": "text/x-python",
   "codemirror_mode": {
    "name": "ipython",
    "version": 3
   },
   "pygments_lexer": "ipython3",
   "nbconvert_exporter": "python",
   "file_extension": ".py"
  },
  "kaggle": {
   "accelerator": "none",
   "dataSources": [
    {
     "sourceId": 111876,
     "databundleVersionId": 13320609,
     "sourceType": "competition"
    }
   ],
   "dockerImageVersionId": 31089,
   "isInternetEnabled": true,
   "language": "python",
   "sourceType": "notebook",
   "isGpuEnabled": false
  }
 },
 "nbformat_minor": 4,
 "nbformat": 4,
 "cells": [
  {
   "cell_type": "code",
   "source": "# This Python 3 environment comes with many helpful analytics libraries installed\n# It is defined by the kaggle/python Docker image: https://github.com/kaggle/docker-python\n# For example, here's several helpful packages to load\n\nimport numpy as np # linear algebra\nimport pandas as pd # data processing, CSV file I/O (e.g. pd.read_csv)\n\n# Input data files are available in the read-only \"../input/\" directory\n# For example, running this (by clicking run or pressing Shift+Enter) will list all files under the input directory\n\nimport os\nfor dirname, _, filenames in os.walk('/kaggle/input'):\n    for filename in filenames:\n        print(os.path.join(dirname, filename))\n\n# You can write up to 20GB to the current directory (/kaggle/working/) that gets preserved as output when you create a version using \"Save & Run All\" \n# You can also write temporary files to /kaggle/temp/, but they won't be saved outside of the current session",
   "metadata": {
    "_uuid": "8f2839f25d086af736a60e9eeb907d3b93b6e0e5",
    "_cell_guid": "b1076dfc-b9ad-4769-8c92-a6c4dae69d19",
    "trusted": true,
    "execution": {
     "iopub.status.busy": "2025-10-03T17:53:22.896125Z",
     "iopub.execute_input": "2025-10-03T17:53:22.896555Z",
     "iopub.status.idle": "2025-10-03T17:53:25.363553Z",
     "shell.execute_reply.started": "2025-10-03T17:53:22.896521Z",
     "shell.execute_reply": "2025-10-03T17:53:25.362742Z"
    }
   },
   "outputs": [],
   "execution_count": null
  },
  {
   "cell_type": "code",
   "source": "import polars as pl\nimport polars.selectors as cs\n\nfrom catboost import CatBoostRegressor, CatBoostClassifier, Pool, cv\n\nimport numpy as np\n#import matplotlib.pyplot as plt\n#from colorama import Fore, Style\n\nfrom sklearn.model_selection import TimeSeriesSplit",
   "metadata": {
    "trusted": true,
    "execution": {
     "iopub.status.busy": "2025-10-03T17:53:25.365391Z",
     "iopub.execute_input": "2025-10-03T17:53:25.36586Z",
     "iopub.status.idle": "2025-10-03T17:53:27.811461Z",
     "shell.execute_reply.started": "2025-10-03T17:53:25.365839Z",
     "shell.execute_reply": "2025-10-03T17:53:27.810084Z"
    }
   },
   "outputs": [],
   "execution_count": null
  },
  {
   "cell_type": "code",
   "source": "%%time\npth = \"/kaggle/input/china-real-estate-demand-prediction\"\n\nci = pl.read_csv(pth+'/train/city_indexes.csv'\n                ).head(6).fill_null(-1).drop(\"total_fixed_asset_investment_10k\"\n                                            ).rename(lambda column_name:(\"\" if column_name in [\"sector\",\"month\"] else  \"ci_\") + column_name) # one row per year\n\ncsi = pl.read_csv(pth+'/train/city_search_index.csv') # several rows per training month\n\nsp = pl.read_csv(pth+'/train/sector_POI.csv'\n                ).fill_null(-1).rename(lambda column_name:(\"\" if column_name in [\"sector\",\"month\"] else  \"sp_\") + column_name) # at most one row per sector\n\ntrain_lt = pl.read_csv(pth+'/train/land_transactions.csv', infer_schema_length=10000\n                      ).rename(lambda column_name:(\"\" if column_name in [\"sector\",\"month\"] else  \"lt_\") + column_name)\n\ntrain_ltns = pl.read_csv(pth+'/train/land_transactions_nearby_sectors.csv'\n                        ).rename(lambda column_name:(\"\" if column_name in [\"sector\",\"month\"] else  \"ltns_\") + column_name)\n\ntrain_pht = pl.read_csv(pth+'/train/pre_owned_house_transactions.csv'\n                       ).rename(lambda column_name:(\"\" if column_name in [\"sector\",\"month\"] else  \"pht_\") + column_name)\n\ntrain_phtns = pl.read_csv(pth+'/train/pre_owned_house_transactions_nearby_sectors.csv'\n                         ).rename(lambda column_name: (\"\" if column_name in [\"sector\",\"month\"] else \"phtns_\") + column_name)\n\ntrain_nht = pl.read_csv(pth+'/train/new_house_transactions.csv'\n                       ).rename(lambda column_name: (\"\" if column_name in [\"sector\",\"month\"] else \"nht_\") + column_name)\n\ntrain_nhtns = pl.read_csv(pth+'/train/new_house_transactions_nearby_sectors.csv'\n                         ).rename(lambda column_name: (\"\" if column_name in [\"sector\",\"month\"] else \"nhtns_\") + column_name)\n\ntest = pl.read_csv(pth+'/test.csv')\n\ntest = test.with_columns(id_=pl.col(\"id\").str.split(\"_\")\n          ).with_columns(month=pl.col(\"id_\").list.get(0),\n                         sector=pl.col(\"id_\").list.get(1)\n          ).drop(\"id_\")\ntest \ntrain_nhtns\ntrain_nht",
   "metadata": {
    "trusted": true,
    "execution": {
     "iopub.status.busy": "2025-10-03T17:53:27.8126Z",
     "iopub.execute_input": "2025-10-03T17:53:27.813152Z",
     "iopub.status.idle": "2025-10-03T17:53:28.275919Z",
     "shell.execute_reply.started": "2025-10-03T17:53:27.813118Z",
     "shell.execute_reply": "2025-10-03T17:53:28.274916Z"
    }
   },
   "outputs": [],
   "execution_count": null
  },
  {
   "cell_type": "code",
   "source": "month_codes = {\n    'Jan': 1,\n    'Feb': 2,\n    'Mar': 3,\n    'Apr': 4,\n    'May': 5,\n    'Jun': 6,\n    'Jul': 7,\n    'Aug': 8,\n    'Sep': 9,\n    'Oct': 10,\n    'Nov': 11,\n    'Dec': 12\n}",
   "metadata": {
    "trusted": true,
    "execution": {
     "iopub.status.busy": "2025-10-03T17:53:28.27691Z",
     "iopub.execute_input": "2025-10-03T17:53:28.277278Z",
     "iopub.status.idle": "2025-10-03T17:53:28.282344Z",
     "shell.execute_reply.started": "2025-10-03T17:53:28.277249Z",
     "shell.execute_reply": "2025-10-03T17:53:28.281449Z"
    }
   },
   "outputs": [],
   "execution_count": null
  },
  {
   "cell_type": "code",
   "source": "%%time\ndata = pl.DataFrame( train_nht[\"month\"].unique() \n            ).join(pl.DataFrame( train_nht[\"sector\"].unique().to_list()+[\"sector 95\"] \n                               ).rename({\"column_0\":\"sector\"}), \n                   how=\"cross\" \n            ).with_columns(sector_id=pl.col(\"sector\").str.split(\" \").list.get(1).cast(pl.Int8),\n                      year=pl.col(\"month\").str.split(\"-\").list.get(0).cast(pl.Int16),\n                      month_num=pl.col(\"month\").str.split(\"-\").list.get(1).replace(month_codes).cast(pl.Int8),\n            ).with_columns(\n                      time=( (pl.col(\"year\") - 2019) * 12 + pl.col(\"month_num\") - 1 ).cast(pl.Int8)\n            ).sort(\"sector_id\",\"time\"\n                   \n            ).join(train_nht, \n                   on=[\"sector\",\"month\"],\n                   how=\"left\"\n            ).fill_null(0\n            ).join(train_nhtns, \n                   on=[\"sector\",\"month\"],\n                   how=\"left\"\n            ).fill_null(-1\n            ).join(train_pht, \n                   on=[\"sector\",\"month\"],\n                   how=\"left\"\n            ).fill_null(-1\n            ).join(train_phtns, \n                   on=[\"sector\",\"month\"],\n                   how=\"left\"\n            ).fill_null(-1\n                       \n            ).join(ci.rename({\"ci_city_indicator_data_year\":\"year\"}), \n                   on=[\"year\"],\n                   how=\"left\"\n            ).fill_null(-1\n            ).join(sp, \n                   on=[\"sector\"],\n                   how=\"left\"\n            ).fill_null(-1\n                        \n            ).join(train_lt, \n                   on=[\"sector\",\"month\"],\n                   how=\"left\"\n            ).fill_null(-1\n            ).join(train_ltns, \n                   on=[\"sector\",\"month\"],\n                   how=\"left\"\n            ).fill_null(-1\n            ).with_columns(cs.float().cast(pl.Float32)\n            )\ndata.max()",
   "metadata": {
    "trusted": true,
    "execution": {
     "iopub.status.busy": "2025-10-03T17:53:28.283314Z",
     "iopub.execute_input": "2025-10-03T17:53:28.284015Z",
     "iopub.status.idle": "2025-10-03T17:53:28.434837Z",
     "shell.execute_reply.started": "2025-10-03T17:53:28.283983Z",
     "shell.execute_reply": "2025-10-03T17:53:28.433816Z"
    }
   },
   "outputs": [],
   "execution_count": null
  },
  {
   "cell_type": "code",
   "source": "#Do you have any ideas how to use csi?\ncsi",
   "metadata": {
    "trusted": true,
    "execution": {
     "iopub.status.busy": "2025-10-03T17:53:28.435934Z",
     "iopub.execute_input": "2025-10-03T17:53:28.436204Z",
     "iopub.status.idle": "2025-10-03T17:53:28.444017Z",
     "shell.execute_reply.started": "2025-10-03T17:53:28.436183Z",
     "shell.execute_reply": "2025-10-03T17:53:28.443034Z"
    }
   },
   "outputs": [],
   "execution_count": null
  },
  {
   "cell_type": "code",
   "source": "%%time\nfor col in data.columns:\n    if data[col].dtype==pl.Int64:\n        c_min = data[col].min()\n        c_max = data[col].max()\n        if c_min == 0 and c_max == 0:\n            data = data.drop(col)\n            print(col, \"0\"*20 )\n        elif c_min > np.iinfo(np.int8).min and c_max < np.iinfo(np.int8).max:\n            data = data.with_columns( pl.col(col).cast(pl.Int8) )\n            print(col, data[col].dtype, data[col].min(), data[col].max() )\n        elif c_min > np.iinfo(np.int16).min and c_max < np.iinfo(np.int16).max:\n            data = data.with_columns( pl.col(col).cast(pl.Int16) )\n            print(col, data[col].dtype, data[col].min(), data[col].max() )\n        elif c_min > np.iinfo(np.int32).min and c_max < np.iinfo(np.int32).max:\n            data = data.with_columns( pl.col(col).cast(pl.Int32) )\n            print(col, data[col].dtype, data[col].min(), data[col].max() )\n        elif c_min > np.iinfo(np.int64).min and c_max < np.iinfo(np.int64).max:\n            data = data.with_columns( pl.col(col).cast(pl.Int64) )\n            print(col, data[col].dtype, data[col].min(), data[col].max() )\n            \ndata = data.drop(\"month\",\"sector\",\"year\")            \ndata",
   "metadata": {
    "trusted": true,
    "execution": {
     "iopub.status.busy": "2025-10-03T17:53:28.448598Z",
     "iopub.execute_input": "2025-10-03T17:53:28.44902Z",
     "iopub.status.idle": "2025-10-03T17:53:28.514303Z",
     "shell.execute_reply.started": "2025-10-03T17:53:28.448986Z",
     "shell.execute_reply": "2025-10-03T17:53:28.513357Z"
    }
   },
   "outputs": [],
   "execution_count": null
  },
  {
   "cell_type": "code",
   "source": "%%time\ndata2=data\ndata2=data2.sort(\"time\",\"sector_id\"\n        )\n\nfor col in data2.columns[3:]:\n    for p in [#3,\n              #6,\n              #12,\n             ]:\n            print(col)\n            data2=data2.with_columns(\n                pl.col(col).rolling_mean(window_size=p).alias(f\"{col}_mean{p}\"), \n                pl.col(col).rolling_min(window_size=p).alias(f\"{col}_min{p}\"), \n                pl.col(col).rolling_max(window_size=p).alias(f\"{col}_max{p}\"), \n            #).with_columns(\n            #    ( pl.col(f\"{col}_max{p}\")-pl.col(f\"{col}_min{p}\") ).alias(f\"{col}_maxmin{p}\")\n            )\n\nfor m in [1,2,12]:\n    data2=data2.join(data.drop(\"month_num\").with_columns(pl.col(\"time\")+m),\n              on=[\"sector_id\",\"time\"],\n              how=\"left\",\n              suffix=f\"_{m}\"\n        )\ndata2=data2.sort(\"time\",\"sector_id\"\n        )\ndata2",
   "metadata": {
    "trusted": true,
    "execution": {
     "iopub.status.busy": "2025-10-03T17:53:28.515592Z",
     "iopub.execute_input": "2025-10-03T17:53:28.51597Z",
     "iopub.status.idle": "2025-10-03T17:53:28.591767Z",
     "shell.execute_reply.started": "2025-10-03T17:53:28.515937Z",
     "shell.execute_reply": "2025-10-03T17:53:28.590654Z"
    }
   },
   "outputs": [],
   "execution_count": null
  },
  {
   "cell_type": "code",
   "source": "lag=-1",
   "metadata": {
    "trusted": true,
    "execution": {
     "iopub.status.busy": "2025-10-03T17:53:28.592958Z",
     "iopub.execute_input": "2025-10-03T17:53:28.59347Z",
     "iopub.status.idle": "2025-10-03T17:53:28.598871Z",
     "shell.execute_reply.started": "2025-10-03T17:53:28.593435Z",
     "shell.execute_reply": "2025-10-03T17:53:28.598048Z"
    }
   },
   "outputs": [],
   "execution_count": null
  },
  {
   "cell_type": "code",
   "source": "%%time\ndata3 = data2.with_columns(pl.col(\"nht_amount_new_house_transactions\").shift(lag).over(\"sector_id\").alias(\"label\"),\n                           #pl.col(\"amount_new_house_transactions\").shift(lag+1).over(\"sector_id\").alias(\"label1\"),\n                           #pl.col(\"amount_new_house_transactions\").shift(lag+2).over(\"sector_id\").alias(\"label2\"),\n                           #pl.col(\"amount_new_house_transactions\").shift(lag+3).over(\"sector_id\").alias(\"label3\"),\n                           #pl.col(\"amount_new_house_transactions\").shift(lag+4).over(\"sector_id\").alias(\"label4\"),\n                           #pl.col(\"amount_new_house_transactions\").shift(lag+5).over(\"sector_id\").alias(\"label5\"),\n                           \n                           cs=((pl.col(\"month_num\")-1)/6*np.pi).cos(),\n                           sn=((pl.col(\"month_num\")-1)/6*np.pi).sin(),\n                           cs6=((pl.col(\"month_num\")-1)/3*np.pi).cos(),\n                           sn6=((pl.col(\"month_num\")-1)/3*np.pi).sin(),\n                           cs3=((pl.col(\"month_num\")-1)/1.5*np.pi).cos(),\n                           sn3=((pl.col(\"month_num\")-1)/1.5*np.pi).sin(),\n#                          ).with_columns( -pl.col(\"label\")+1\n                          )#.drop_nulls(subset=[\"label\"])\ndata3 = data3.drop(\"sector_id\")\ndata3",
   "metadata": {
    "trusted": true,
    "execution": {
     "iopub.status.busy": "2025-10-03T17:53:28.599895Z",
     "iopub.execute_input": "2025-10-03T17:53:28.600274Z",
     "iopub.status.idle": "2025-10-03T17:53:28.647729Z",
     "shell.execute_reply.started": "2025-10-03T17:53:28.600241Z",
     "shell.execute_reply": "2025-10-03T17:53:28.646463Z"
    }
   },
   "outputs": [],
   "execution_count": null
  },
  {
   "cell_type": "code",
   "source": "%%time\ncat_features = [#\"sector_id\",\n                \"month_num\"\n               ]\nborder=66+lag-12*0-1\n#border1=border//2 #-1\nborder1=border-6*6\nborder1=6*3\ntrainPool = Pool(data=data3.filter(pl.col(\"time\")<=border\n                                  #).filter(pl.col(\"label\")>10\n                                  ).filter(pl.col(\"time\")>border1\n                                          ).drop([\"label\",\n                                                  #\"label1\",\"label2\",\"label3\",\"label4\",\"label5\",\n                                                 ]).to_pandas().fillna(-2),\n                 label=data3.filter(pl.col(\"time\")<=border\n                                  #).filter(pl.col(\"label\")>10\n                                   ).filter(pl.col(\"time\")>border1\n                                           )[\"label\",\n                                             #\"label1\",\"label2\",\"label3\",\"label4\",\"label5\",\n                                            ].to_pandas(),\n                 cat_features = cat_features, \n                 #text_features = text_features, \n                )\n\ntestPool = Pool(data=data3.filter(pl.col(\"time\")>border\n                                  ).filter(pl.col(\"time\")<=66+lag\n                                  #).filter(pl.col(\"label\")>10\n                                 ).drop([\"label\",\n                                         #\"label1\",\"label2\",\"label3\",\"label4\",\"label5\",\n                                        ]).to_pandas().fillna(-2),\n                 label=data3.filter(pl.col(\"time\")>border\n                                  ).filter(pl.col(\"time\")<=66+lag\n                                  #).filter(pl.col(\"label\")>10\n                                   )[\"label\",\n                                     #\"label1\",\"label2\",\"label3\",\"label4\",\"label5\",\n                                    ].to_pandas(),\n                 cat_features = cat_features, \n                 #text_features = text_features, \n                )\ntrainPool",
   "metadata": {
    "trusted": true,
    "execution": {
     "iopub.status.busy": "2025-10-03T17:53:28.648706Z",
     "iopub.execute_input": "2025-10-03T17:53:28.649274Z",
     "iopub.status.idle": "2025-10-03T17:53:28.895729Z",
     "shell.execute_reply.started": "2025-10-03T17:53:28.649239Z",
     "shell.execute_reply": "2025-10-03T17:53:28.894804Z"
    }
   },
   "outputs": [],
   "execution_count": null
  },
  {
   "cell_type": "code",
   "source": "#custom eval metric for catboost\n\n# based on https://www.kaggle.com/competitions/china-real-estate-demand-prediction/discussion/598174\n\ndef custom_score(y_true, y_pred, eps=1e-12):\n\n    y_true = np.asarray(y_true, dtype=float)\n    y_pred = np.asarray(y_pred, dtype=float)\n\n    if y_true.size == 0:\n        return 0.0\n\n    ape = np.abs((y_true - np.maximum(y_pred,0) ) / np.maximum(y_true, eps))\n\n    bad_rate = np.mean(ape > 1.0)\n    if bad_rate > 0.30:\n        return 0.0\n\n    mask = ape <= 1.0\n    good_ape = ape[mask]\n\n    if good_ape.size == 0:\n        return 0.0\n\n    mape = np.mean(good_ape)\n\n    fraction = good_ape.size / y_true.size\n    scaled_mape = mape / (fraction + eps)\n    score = max(0.0, 1.0 - scaled_mape)\n    return score\n\nclass CustomMetric:\n    def is_max_optimal(self):\n        return True # greater is better\n\n    def evaluate(self, approxes, target, weight):\n        assert len(approxes) == 1\n        assert len(target) == len(approxes[0])\n\n        approx = approxes[0]\n\n        y_pred = approx\n        y_true = target\n\n        output_weight = 1 # weight is not used\n\n        score = custom_score( target, approx )\n \n        return score, output_weight\n\n    def get_final_error(self, error, weight):\n        return error",
   "metadata": {
    "trusted": true,
    "execution": {
     "iopub.status.busy": "2025-10-03T17:53:28.896706Z",
     "iopub.execute_input": "2025-10-03T17:53:28.897059Z",
     "iopub.status.idle": "2025-10-03T17:53:28.905526Z",
     "shell.execute_reply.started": "2025-10-03T17:53:28.897026Z",
     "shell.execute_reply": "2025-10-03T17:53:28.904267Z"
    }
   },
   "outputs": [],
   "execution_count": null
  },
  {
   "cell_type": "code",
   "source": "#custom loss for catboost\nclass CustomObjective(object):\n    def calc_ders_range(self, approxes, targets, weights):\n        assert len(approxes) == len(targets)\n        if weights is not None:\n            assert len(weights) == len(approxes)\n        result = []\n        delta = 10**(-6)\n        for i in range(len(targets)):\n            diff = (targets[i] - approxes[i])#/(targets[i]+delta)\n            #der1 = np.sign(diff)\n            der1 = np.sign(diff) if (2*targets[i] - approxes[i]) < 0 else np.sign(diff)*5\n            der2 = 0\n            result.append((der1, der2))\n        return result  ",
   "metadata": {
    "trusted": true,
    "execution": {
     "iopub.status.busy": "2025-10-03T17:53:28.906652Z",
     "iopub.execute_input": "2025-10-03T17:53:28.907101Z",
     "iopub.status.idle": "2025-10-03T17:53:28.927437Z",
     "shell.execute_reply.started": "2025-10-03T17:53:28.907068Z",
     "shell.execute_reply": "2025-10-03T17:53:28.926469Z"
    }
   },
   "outputs": [],
   "execution_count": null
  },
  {
   "cell_type": "code",
   "source": "testPool2 = Pool(data=data3.filter(pl.col(\"time\")==66\n                                 ).drop([\"label\"]).to_pandas().fillna(-2),\n                 cat_features = cat_features, \n                )\n\ncb = CatBoostRegressor(iterations=21000,\n                            learning_rate=0.0125,\n                            one_hot_max_size=256,\n                            custom_metric=[                            \n                                           \"RMSE\",\n                                           \"MAPE\",\n                                           \"SMAPE\",\n                                           \"MAE\",\n                            ],\n                            loss_function=CustomObjective(),\n                            eval_metric=CustomMetric(),\n                            l2_leaf_reg=0.3,\n                            random_seed=4,\n                           )\ncb.fit(trainPool,\n           eval_set=testPool,\n           #early_stopping_rounds=4000,\n           #use_best_model=False,\n           #plot=True,\n           verbose=1000,           \n           )\nmonth=np.maximum(cb.predict(testPool2),0)\nmonth",
   "metadata": {
    "trusted": true,
    "execution": {
     "iopub.status.busy": "2025-10-03T17:53:28.928771Z",
     "iopub.execute_input": "2025-10-03T17:53:28.929165Z",
     "iopub.status.idle": "2025-10-03T17:55:13.425446Z",
     "shell.execute_reply.started": "2025-10-03T17:53:28.929138Z",
     "shell.execute_reply": "2025-10-03T17:55:13.424452Z"
    }
   },
   "outputs": [],
   "execution_count": null
  },
  {
   "cell_type": "code",
   "source": [
    "##%%time\n",
    "importance = cb.get_feature_importance(prettified=True,data=testPool)\n",
    "importance.to_csv(\"importance.csv\")\n",
    "importance.head(60)"
   ],
   "metadata": {
    "trusted": true,
    "execution": {
     "iopub.status.busy": "2025-10-03T17:55:13.42654Z",
     "iopub.execute_input": "2025-10-03T17:55:13.427012Z",
     "iopub.status.idle": "2025-10-03T17:55:13.475516Z",
     "shell.execute_reply.started": "2025-10-03T17:55:13.426946Z",
     "shell.execute_reply": "2025-10-03T17:55:13.474399Z"
    }
   },
   "outputs": [],
   "execution_count": null
  },
  {
   "cell_type": "code",
   "source": "#importance.tail(60)",
   "metadata": {
    "trusted": true,
    "execution": {
     "iopub.status.busy": "2025-10-03T17:55:13.476574Z",
     "iopub.execute_input": "2025-10-03T17:55:13.477099Z",
     "iopub.status.idle": "2025-10-03T17:55:13.482479Z",
     "shell.execute_reply.started": "2025-10-03T17:55:13.476891Z",
     "shell.execute_reply": "2025-10-03T17:55:13.481601Z"
    }
   },
   "outputs": [],
   "execution_count": null
  },
  {
   "cell_type": "code",
   "source": "#based on https://www.kaggle.com/code/ambrosm/red-explained-baseline/notebook\nfor i in [11,38,40,43,48,51,52,57,71,72,73,74,81,86,88,94,95]:\n    month[i]=0\nmonth",
   "metadata": {
    "trusted": true,
    "execution": {
     "iopub.status.busy": "2025-10-03T17:55:13.483367Z",
     "iopub.execute_input": "2025-10-03T17:55:13.483661Z",
     "iopub.status.idle": "2025-10-03T17:55:13.503102Z",
     "shell.execute_reply.started": "2025-10-03T17:55:13.483595Z",
     "shell.execute_reply": "2025-10-03T17:55:13.502176Z"
    }
   },
   "outputs": [],
   "execution_count": null
  },
  {
   "cell_type": "code",
   "source": "sub = pd.read_csv(\"/kaggle/input/china-real-estate-demand-prediction/sample_submission.csv\")\nsub",
   "metadata": {
    "trusted": true,
    "execution": {
     "iopub.status.busy": "2025-10-03T17:55:13.504332Z",
     "iopub.execute_input": "2025-10-03T17:55:13.504633Z",
     "iopub.status.idle": "2025-10-03T17:55:13.541245Z",
     "shell.execute_reply.started": "2025-10-03T17:55:13.504613Z",
     "shell.execute_reply": "2025-10-03T17:55:13.540408Z"
    }
   },
   "outputs": [],
   "execution_count": null
  },
  {
   "cell_type": "code",
   "source": "for m in range(12):\n    sub.loc[[i+m*96 for i in range(96)], \"new_house_transaction_amount\"]=month\nsub.to_csv(\"submission.csv\", index=False)\nsub",
   "metadata": {
    "trusted": true,
    "execution": {
     "iopub.status.busy": "2025-10-03T17:55:13.541876Z",
     "iopub.execute_input": "2025-10-03T17:55:13.542097Z",
     "iopub.status.idle": "2025-10-03T17:55:13.568707Z",
     "shell.execute_reply.started": "2025-10-03T17:55:13.542081Z",
     "shell.execute_reply": "2025-10-03T17:55:13.567475Z"
    }
   },
   "outputs": [],
   "execution_count": null
  }
 ]
}
